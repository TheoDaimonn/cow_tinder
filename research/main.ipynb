{
 "cells": [
  {
   "cell_type": "markdown",
   "id": "8db1fbce",
   "metadata": {},
   "source": [
    "# Установка"
   ]
  },
  {
   "cell_type": "code",
   "execution_count": 2,
   "id": "4afd7e21",
   "metadata": {},
   "outputs": [
    {
     "name": "stdout",
     "output_type": "stream",
     "text": [
      "Requirement already satisfied: ortools in /home/ivzarru/cow_tinder/.venv/lib/python3.12/site-packages (9.14.6206)\n",
      "Requirement already satisfied: absl-py>=2.0.0 in /home/ivzarru/cow_tinder/.venv/lib/python3.12/site-packages (from ortools) (2.3.0)\n",
      "Requirement already satisfied: numpy>=1.13.3 in /home/ivzarru/cow_tinder/.venv/lib/python3.12/site-packages (from ortools) (2.3.1)\n",
      "Requirement already satisfied: pandas>=2.0.0 in /home/ivzarru/cow_tinder/.venv/lib/python3.12/site-packages (from ortools) (2.3.0)\n",
      "Requirement already satisfied: protobuf<6.32,>=6.31.1 in /home/ivzarru/cow_tinder/.venv/lib/python3.12/site-packages (from ortools) (6.31.1)\n",
      "Requirement already satisfied: typing-extensions>=4.12 in /home/ivzarru/cow_tinder/.venv/lib/python3.12/site-packages (from ortools) (4.14.0)\n",
      "Requirement already satisfied: immutabledict>=3.0.0 in /home/ivzarru/cow_tinder/.venv/lib/python3.12/site-packages (from ortools) (4.2.1)\n",
      "Requirement already satisfied: python-dateutil>=2.8.2 in /home/ivzarru/cow_tinder/.venv/lib/python3.12/site-packages (from pandas>=2.0.0->ortools) (2.9.0.post0)\n",
      "Requirement already satisfied: pytz>=2020.1 in /home/ivzarru/cow_tinder/.venv/lib/python3.12/site-packages (from pandas>=2.0.0->ortools) (2025.2)\n",
      "Requirement already satisfied: tzdata>=2022.7 in /home/ivzarru/cow_tinder/.venv/lib/python3.12/site-packages (from pandas>=2.0.0->ortools) (2025.2)\n",
      "Requirement already satisfied: six>=1.5 in /home/ivzarru/cow_tinder/.venv/lib/python3.12/site-packages (from python-dateutil>=2.8.2->pandas>=2.0.0->ortools) (1.17.0)\n",
      "Collecting matplotlib\n",
      "  Using cached matplotlib-3.10.3-cp312-cp312-manylinux_2_17_x86_64.manylinux2014_x86_64.whl.metadata (11 kB)\n",
      "Collecting seaborn\n",
      "  Using cached seaborn-0.13.2-py3-none-any.whl.metadata (5.4 kB)\n",
      "Requirement already satisfied: pandas in /home/ivzarru/cow_tinder/.venv/lib/python3.12/site-packages (2.3.0)\n",
      "Requirement already satisfied: numpy in /home/ivzarru/cow_tinder/.venv/lib/python3.12/site-packages (2.3.1)\n",
      "Collecting contourpy>=1.0.1 (from matplotlib)\n",
      "  Using cached contourpy-1.3.2-cp312-cp312-manylinux_2_17_x86_64.manylinux2014_x86_64.whl.metadata (5.5 kB)\n",
      "Collecting cycler>=0.10 (from matplotlib)\n",
      "  Using cached cycler-0.12.1-py3-none-any.whl.metadata (3.8 kB)\n",
      "Collecting fonttools>=4.22.0 (from matplotlib)\n",
      "  Using cached fonttools-4.58.4-cp312-cp312-manylinux1_x86_64.manylinux2014_x86_64.manylinux_2_17_x86_64.manylinux_2_5_x86_64.whl.metadata (106 kB)\n",
      "Collecting kiwisolver>=1.3.1 (from matplotlib)\n",
      "  Using cached kiwisolver-1.4.8-cp312-cp312-manylinux_2_17_x86_64.manylinux2014_x86_64.whl.metadata (6.2 kB)\n",
      "Requirement already satisfied: packaging>=20.0 in /home/ivzarru/cow_tinder/.venv/lib/python3.12/site-packages (from matplotlib) (25.0)\n",
      "Collecting pillow>=8 (from matplotlib)\n",
      "  Using cached pillow-11.3.0-cp312-cp312-manylinux_2_27_x86_64.manylinux_2_28_x86_64.whl.metadata (9.0 kB)\n",
      "Collecting pyparsing>=2.3.1 (from matplotlib)\n",
      "  Using cached pyparsing-3.2.3-py3-none-any.whl.metadata (5.0 kB)\n",
      "Requirement already satisfied: python-dateutil>=2.7 in /home/ivzarru/cow_tinder/.venv/lib/python3.12/site-packages (from matplotlib) (2.9.0.post0)\n",
      "Requirement already satisfied: pytz>=2020.1 in /home/ivzarru/cow_tinder/.venv/lib/python3.12/site-packages (from pandas) (2025.2)\n",
      "Requirement already satisfied: tzdata>=2022.7 in /home/ivzarru/cow_tinder/.venv/lib/python3.12/site-packages (from pandas) (2025.2)\n",
      "Requirement already satisfied: six>=1.5 in /home/ivzarru/cow_tinder/.venv/lib/python3.12/site-packages (from python-dateutil>=2.7->matplotlib) (1.17.0)\n",
      "Using cached matplotlib-3.10.3-cp312-cp312-manylinux_2_17_x86_64.manylinux2014_x86_64.whl (8.6 MB)\n",
      "Using cached seaborn-0.13.2-py3-none-any.whl (294 kB)\n",
      "Using cached contourpy-1.3.2-cp312-cp312-manylinux_2_17_x86_64.manylinux2014_x86_64.whl (323 kB)\n",
      "Using cached cycler-0.12.1-py3-none-any.whl (8.3 kB)\n",
      "Using cached fonttools-4.58.4-cp312-cp312-manylinux1_x86_64.manylinux2014_x86_64.manylinux_2_17_x86_64.manylinux_2_5_x86_64.whl (4.9 MB)\n",
      "Using cached kiwisolver-1.4.8-cp312-cp312-manylinux_2_17_x86_64.manylinux2014_x86_64.whl (1.5 MB)\n",
      "Using cached pillow-11.3.0-cp312-cp312-manylinux_2_27_x86_64.manylinux_2_28_x86_64.whl (6.6 MB)\n",
      "Using cached pyparsing-3.2.3-py3-none-any.whl (111 kB)\n",
      "Installing collected packages: pyparsing, pillow, kiwisolver, fonttools, cycler, contourpy, matplotlib, seaborn\n",
      "\u001b[2K   \u001b[38;2;114;156;31m━━━━━━━━━━━━━━━━━━━━━━━━━━━━━━━━━━━━━━━━\u001b[0m \u001b[32m8/8\u001b[0m [seaborn]━━━\u001b[0m \u001b[32m7/8\u001b[0m [seaborn]ib]\n",
      "\u001b[1A\u001b[2KSuccessfully installed contourpy-1.3.2 cycler-0.12.1 fonttools-4.58.4 kiwisolver-1.4.8 matplotlib-3.10.3 pillow-11.3.0 pyparsing-3.2.3 seaborn-0.13.2\n"
     ]
    }
   ],
   "source": [
    "! pip install ortools\n",
    "! pip install matplotlib seaborn pandas numpy"
   ]
  },
  {
   "cell_type": "markdown",
   "id": "578277a7",
   "metadata": {},
   "source": [
    "# Импорты"
   ]
  },
  {
   "cell_type": "code",
   "execution_count": 1,
   "id": "24ac32b2",
   "metadata": {},
   "outputs": [],
   "source": [
    "import matplotlib.pyplot as plt\n",
    "import pandas as pd\n",
    "import seaborn as sns\n",
    "from ortools.sat.python import cp_model\n"
   ]
  },
  {
   "cell_type": "markdown",
   "id": "4eddcb6c",
   "metadata": {},
   "source": [
    "# Анализ"
   ]
  },
  {
   "cell_type": "code",
   "execution_count": null,
   "id": "57260282",
   "metadata": {},
   "outputs": [
    {
     "name": "stdout",
     "output_type": "stream",
     "text": [
      "              id  descendants_count     ebv\n",
      "0  FR00000000479                476   690.7\n",
      "1  NL00000001842                325  -597.6\n",
      "2  US00000003013                436  1528.6\n",
      "3  US00000001653               1097  1193.2\n",
      "4  DE00000001742                496  1510.6\n",
      "<class 'pandas.core.frame.DataFrame'>\n",
      "RangeIndex: 39 entries, 0 to 38\n",
      "Data columns (total 3 columns):\n",
      " #   Column             Non-Null Count  Dtype  \n",
      "---  ------             --------------  -----  \n",
      " 0   id                 39 non-null     object \n",
      " 1   descendants_count  39 non-null     int64  \n",
      " 2   ebv                38 non-null     float64\n",
      "dtypes: float64(1), int64(1), object(1)\n",
      "memory usage: 1.0+ KB\n"
     ]
    }
   ],
   "source": [
    "# Прочитаем данные\n",
    "bulls = pd.read_csv('../data/bulls.csv')\n",
    "print(bulls.head())\n",
    "bulls.info()\n",
    "# Будем считать, что descendants_count - кол-во возможных детей"
   ]
  },
  {
   "cell_type": "code",
   "execution_count": 6,
   "id": "0a6d4e6b",
   "metadata": {},
   "outputs": [
    {
     "name": "stdout",
     "output_type": "stream",
     "text": [
      "              id    ebv\n",
      "0  RU00000090385  266.5\n",
      "1  DE00000090396    NaN\n",
      "2  NL00000090422 -582.8\n",
      "3  GB00000090437  443.8\n",
      "4  DE00000090443  173.3\n",
      "<class 'pandas.core.frame.DataFrame'>\n",
      "RangeIndex: 17177 entries, 0 to 17176\n",
      "Data columns (total 2 columns):\n",
      " #   Column  Non-Null Count  Dtype  \n",
      "---  ------  --------------  -----  \n",
      " 0   id      17177 non-null  object \n",
      " 1   ebv     15328 non-null  float64\n",
      "dtypes: float64(1), object(1)\n",
      "memory usage: 268.5+ KB\n"
     ]
    }
   ],
   "source": [
    "# Прочитаем данные\n",
    "cows = pd.read_csv('../data/cows.csv')\n",
    "print(cows.head())\n",
    "cows.info()"
   ]
  },
  {
   "cell_type": "code",
   "execution_count": 7,
   "id": "90dd08b6",
   "metadata": {},
   "outputs": [
    {
     "name": "stdout",
     "output_type": "stream",
     "text": [
      "              id      mother_id      father_id\n",
      "0  GB00000090350  GB00000070596  FR00000051087\n",
      "1  DE00000090351  GB00000085021  GB00000051158\n",
      "2  US00000090352  US00000087323  GB00000091078\n",
      "3  FR00000090353            NaN            NaN\n",
      "4  GB00000090358  US00000056066  NL00000050889\n",
      "<class 'pandas.core.frame.DataFrame'>\n",
      "RangeIndex: 94400 entries, 0 to 94399\n",
      "Data columns (total 3 columns):\n",
      " #   Column     Non-Null Count  Dtype \n",
      "---  ------     --------------  ----- \n",
      " 0   id         94400 non-null  object\n",
      " 1   mother_id  87822 non-null  object\n",
      " 2   father_id  89562 non-null  object\n",
      "dtypes: object(3)\n",
      "memory usage: 2.2+ MB\n"
     ]
    }
   ],
   "source": [
    "# Прочитаем данные\n",
    "pedigree = pd.read_csv('../data/pedigree.csv')\n",
    "print(pedigree.head())\n",
    "pedigree.info()"
   ]
  },
  {
   "cell_type": "markdown",
   "id": "c5bc3d44",
   "metadata": {},
   "source": [
    "# Создание матрицы потенциальных назначений"
   ]
  },
  {
   "cell_type": "code",
   "execution_count": null,
   "id": "5030bede",
   "metadata": {},
   "outputs": [
    {
     "data": {
      "text/plain": [
       "['GB00000070596',\n",
       " 'NL00000074750',\n",
       " 'DE00000061546',\n",
       " 'FR00000078118',\n",
       " 'US00000090614',\n",
       " 'DE00000058308',\n",
       " 'FR00000091137',\n",
       " 'FR00000088924',\n",
       " 'NL00000051203',\n",
       " 'NL00000051115',\n",
       " 'US00000050818',\n",
       " 'FR00000050367',\n",
       " 'FR00000050361',\n",
       " 'DE00000050293',\n",
       " 'US00000050750',\n",
       " 'US00000050615',\n",
       " 'DE00000050591',\n",
       " 'DE00000050607',\n",
       " 'RU00000050704',\n",
       " 'DE00000050767',\n",
       " 'RU00000050613',\n",
       " 'RU00000050704',\n",
       " 'NL00000050382',\n",
       " 'RU00000050408',\n",
       " 'FR00000050407',\n",
       " 'FR00000050332',\n",
       " 'DE00000050429',\n",
       " 'GB00000050433',\n",
       " 'US00000050417',\n",
       " 'FR00000051087',\n",
       " 'NL00000050932',\n",
       " 'NL00000051042',\n",
       " 'NL00000050940',\n",
       " 'RU00000050608',\n",
       " 'GB00000050770',\n",
       " 'FR00000050578',\n",
       " 'US00000050723',\n",
       " 'NL00000050481',\n",
       " 'DE00000050666',\n",
       " 'US00000050639',\n",
       " 'FR00000050558',\n",
       " 'FR00000050808',\n",
       " 'GB00000050577',\n",
       " 'FR00000050545',\n",
       " 'NL00000050481',\n",
       " 'RU00000050593',\n",
       " 'RU00000050778',\n",
       " 'US00000050641',\n",
       " 'NL00000050481',\n",
       " 'FR00000050401',\n",
       " 'RU00000050664',\n",
       " 'FR00000050642',\n",
       " 'NL00000050547']"
      ]
     },
     "execution_count": 9,
     "metadata": {},
     "output_type": "execute_result"
    }
   ],
   "source": [
    "# Сопоставим каждой особе список предков до 5 колена. Т.к. все, что идет дальше соответствует <5% родства. Для этого будем углубляться по дереву предков\n",
    "\n",
    "def find_parents(animal_id, cnt=0, curr_result=None):\n",
    "    if curr_result is None:\n",
    "        curr_result = []\n",
    "    \n",
    "    if cnt >= 5:\n",
    "        return curr_result\n",
    "    \n",
    "    animal_row = pedigree[pedigree['id'] == animal_id]\n",
    "    \n",
    "    if animal_row.empty:\n",
    "        return curr_result\n",
    "    \n",
    "    mother_id = animal_row['mother_id'].values[0]\n",
    "    father_id = animal_row['father_id'].values[0]\n",
    "    \n",
    "    # Добавление родителей, если они известны\n",
    "    if pd.notna(mother_id):\n",
    "        curr_result.append(mother_id)\n",
    "        find_parents(mother_id, cnt + 1, curr_result)\n",
    "    \n",
    "    if pd.notna(father_id):\n",
    "        curr_result.append(father_id)\n",
    "        find_parents(father_id, cnt + 1, curr_result)\n",
    "    \n",
    "    return curr_result\n",
    "find_parents('GB00000090350')\n"
   ]
  },
  {
   "cell_type": "code",
   "execution_count": 11,
   "id": "f6d6d5b7",
   "metadata": {},
   "outputs": [
    {
     "name": "stdout",
     "output_type": "stream",
     "text": [
      "              id  descendants_count     ebv  \\\n",
      "0  FR00000000479                476   690.7   \n",
      "1  NL00000001842                325  -597.6   \n",
      "2  US00000003013                436  1528.6   \n",
      "3  US00000001653               1097  1193.2   \n",
      "4  DE00000001742                496  1510.6   \n",
      "\n",
      "                                     valid_ancestors  \n",
      "0  [US00000000802, FR00000000028, GB00000000783, ...  \n",
      "1  [DE00000001681, DE00000002197, NL00000002220, ...  \n",
      "2  [US00000002320, DE00000002323, DE00000002324, ...  \n",
      "3  [FR00000001777, DE00000001940, RU00000002216, ...  \n",
      "4  [RU00000002032, RU00000001712, RU00000001939, ...  \n",
      "              id    ebv                                    valid_ancestors\n",
      "0  RU00000090385  266.5  [US00000093522, GB00000053019, RU00000054636, ...\n",
      "1  DE00000090396    NaN  [RU00000067677, NL00000068009, DE00000060726, ...\n",
      "2  NL00000090422 -582.8  [NL00000053949, FR00000055560, US00000064902, ...\n",
      "3  GB00000090437  443.8  [DE00000075045, RU00000056086, RU00000078370, ...\n",
      "4  DE00000090443  173.3  [US00000093024, NL00000055094, FR00000086503, ...\n"
     ]
    }
   ],
   "source": [
    "# Сделаем это для всех особей\n",
    "bulls['valid_ancestors'] = bulls['id'].apply(find_parents)\n",
    "cows['valid_ancestors'] = cows['id'].apply(find_parents)\n",
    "print(bulls.head())\n",
    "print(cows.head())"
   ]
  },
  {
   "cell_type": "markdown",
   "id": "699ce0bf",
   "metadata": {},
   "source": [
    "# Алгоритмы:\n",
    "\n",
    "Здесь постараемся рассмотреть несколько вариантов:\n",
    "\n",
    "1) Модель линейной оптимизации (ortools, Задача назначений)\n",
    "\n",
    "2) Жадный алгоритм\n",
    "\n",
    "3) Генетический алгоритм\n",
    "\n",
    "\n",
    "И сравним полученные значения EBV"
   ]
  },
  {
   "cell_type": "markdown",
   "id": "ee41ba66",
   "metadata": {},
   "source": [
    "## Линейная оптимизация со следующими ограничениями:\n",
    "\n",
    "### Критерии и ограничения, которые нужно учитывать\n",
    "\n",
    "1.​ Ожидаемый EBV потомка\n",
    "\n",
    "    ○​ Рассчитывается как среднее значение между EBV быка и коровы.\n",
    "    \n",
    "    ○​ Необходимо максимизировать среднее значение по всему закреплению.\n",
    "\n",
    "2.​ Разнообразие потомства\n",
    "    \n",
    "    ○​ При прочих равных предпочтение даётся таким парам, где разброс EBV\n",
    "потомков больше.\n",
    "\n",
    "3.​ Генетическое разнообразие\n",
    "\n",
    "    ○​ Уровень родства в паре не должен превышать 5%.\n",
    "\n",
    "4.​ Ограничение по использованию быков\n",
    "\n",
    "    ○​ Один бык не может осеменить более 10% коров.\n",
    "\n",
    "\n",
    "### Функция оптимизации:\n",
    "\n",
    "sum(EBVi), i = 1...n\n"
   ]
  },
  {
   "cell_type": "code",
   "execution_count": 2,
   "id": "2d48079b",
   "metadata": {},
   "outputs": [],
   "source": [
    "cows = pd.read_csv('../data/ppcd_cows.csv')\n",
    "bulls = pd.read_csv('../data/ppcd_bulls.csv')"
   ]
  },
  {
   "cell_type": "code",
   "execution_count": 3,
   "id": "ec83eb12",
   "metadata": {},
   "outputs": [
    {
     "data": {
      "text/html": [
       "<div>\n",
       "<style scoped>\n",
       "    .dataframe tbody tr th:only-of-type {\n",
       "        vertical-align: middle;\n",
       "    }\n",
       "\n",
       "    .dataframe tbody tr th {\n",
       "        vertical-align: top;\n",
       "    }\n",
       "\n",
       "    .dataframe thead th {\n",
       "        text-align: right;\n",
       "    }\n",
       "</style>\n",
       "<table border=\"1\" class=\"dataframe\">\n",
       "  <thead>\n",
       "    <tr style=\"text-align: right;\">\n",
       "      <th></th>\n",
       "      <th>Unnamed: 0</th>\n",
       "      <th>id</th>\n",
       "      <th>ebv</th>\n",
       "      <th>valid_ancestors</th>\n",
       "    </tr>\n",
       "  </thead>\n",
       "  <tbody>\n",
       "    <tr>\n",
       "      <th>0</th>\n",
       "      <td>0</td>\n",
       "      <td>RU00000090385</td>\n",
       "      <td>26650</td>\n",
       "      <td>['US00000093522', 'GB00000053019', 'RU00000054...</td>\n",
       "    </tr>\n",
       "    <tr>\n",
       "      <th>1</th>\n",
       "      <td>1</td>\n",
       "      <td>NL00000090422</td>\n",
       "      <td>-58279</td>\n",
       "      <td>['NL00000053949', 'FR00000055560', 'US00000064...</td>\n",
       "    </tr>\n",
       "    <tr>\n",
       "      <th>2</th>\n",
       "      <td>2</td>\n",
       "      <td>GB00000090437</td>\n",
       "      <td>44380</td>\n",
       "      <td>['DE00000075045', 'RU00000056086', 'RU00000078...</td>\n",
       "    </tr>\n",
       "    <tr>\n",
       "      <th>3</th>\n",
       "      <td>3</td>\n",
       "      <td>DE00000090443</td>\n",
       "      <td>17330</td>\n",
       "      <td>['US00000093024', 'NL00000055094', 'FR00000086...</td>\n",
       "    </tr>\n",
       "    <tr>\n",
       "      <th>4</th>\n",
       "      <td>4</td>\n",
       "      <td>DE00000090473</td>\n",
       "      <td>1200</td>\n",
       "      <td>['NL00000073771', 'US00000080682', 'DE00000054...</td>\n",
       "    </tr>\n",
       "  </tbody>\n",
       "</table>\n",
       "</div>"
      ],
      "text/plain": [
       "   Unnamed: 0             id    ebv  \\\n",
       "0           0  RU00000090385  26650   \n",
       "1           1  NL00000090422 -58279   \n",
       "2           2  GB00000090437  44380   \n",
       "3           3  DE00000090443  17330   \n",
       "4           4  DE00000090473   1200   \n",
       "\n",
       "                                     valid_ancestors  \n",
       "0  ['US00000093522', 'GB00000053019', 'RU00000054...  \n",
       "1  ['NL00000053949', 'FR00000055560', 'US00000064...  \n",
       "2  ['DE00000075045', 'RU00000056086', 'RU00000078...  \n",
       "3  ['US00000093024', 'NL00000055094', 'FR00000086...  \n",
       "4  ['NL00000073771', 'US00000080682', 'DE00000054...  "
      ]
     },
     "execution_count": 3,
     "metadata": {},
     "output_type": "execute_result"
    }
   ],
   "source": [
    "cows.dropna(inplace=True)\n",
    "bulls.dropna(inplace=True) # удаляем т.к. допускаем, чтоо не повлияют на исход работы алгоритма\n",
    "cows['ebv'] = cows['ebv'].apply(lambda x: int(x * 100))\n",
    "bulls['ebv'] = bulls['ebv'].apply(lambda x: int(x * 100)) # для решения в целых числах\n",
    "cows.head()"
   ]
  },
  {
   "cell_type": "code",
   "execution_count": 4,
   "id": "5ed7cd93",
   "metadata": {},
   "outputs": [
    {
     "ename": "",
     "evalue": "",
     "output_type": "error",
     "traceback": [
      "\u001b[1;31mThe Kernel crashed while executing code in the current cell or a previous cell. \n",
      "\u001b[1;31mPlease review the code in the cell(s) to identify a possible cause of the failure. \n",
      "\u001b[1;31mClick <a href='https://aka.ms/vscodeJupyterKernelCrash'>here</a> for more info. \n",
      "\u001b[1;31mView Jupyter <a href='command:jupyter.viewOutput'>log</a> for further details."
     ]
    }
   ],
   "source": [
    "import math\n",
    "from ortools.sat.python import cp_model\n",
    "\n",
    "# Предобработка данных: удаление коров с NaN в 'ebv'\n",
    "cows = cows.dropna(subset=['ebv']).reset_index(drop=True)\n",
    "\n",
    "# Расчёт квоты: 10% от количества коров с округлением вверх\n",
    "quota = math.ceil(cows.shape[0] * 0.1)\n",
    "\n",
    "# Функция для расчёта родства\n",
    "def calculate_kinship(bull_ancestors, cow_ancestors):\n",
    "    set_bull = set(bull_ancestors)\n",
    "    set_cow = set(cow_ancestors)\n",
    "    return int(len(set_bull & set_cow) > 0)\n",
    "\n",
    "num_cows = len(cows)\n",
    "num_bulls = len(bulls)\n",
    "\n",
    "# Создание модели\n",
    "model = cp_model.CpModel()\n",
    "\n",
    "# Переменные: x[cow_idx][bull_idx] = 1, если корова cow_idx закреплена за быком bull_idx\n",
    "x = {}\n",
    "for cow_idx in range(num_cows):\n",
    "    for bull_idx in range(num_bulls):\n",
    "        x[cow_idx, bull_idx] = model.NewBoolVar(f'x_{cow_idx}_{bull_idx}')\n",
    "\n",
    "# Ограничение 1: каждая корова закреплена за одним быком\n",
    "for cow_idx in range(num_cows):\n",
    "    model.Add(sum(x[cow_idx, bull_idx] for bull_idx in range(num_bulls)) == 1)\n",
    "\n",
    "# Ограничение 2: один бык не может обслужить более quota коров\n",
    "for bull_idx in range(num_bulls):\n",
    "    model.Add(sum(x[cow_idx, bull_idx] for cow_idx in range(num_cows)) <= quota)\n",
    "\n",
    "# Целевая функция: максимизация суммы EBV с учётом штрафа за родство\n",
    "objective_terms = []\n",
    "for cow_idx in range(num_cows):\n",
    "    cow_row = cows.iloc[cow_idx]\n",
    "    cow_ancestors = cow_row['valid_ancestors']\n",
    "    cow_ebv = cow_row['ebv']\n",
    "    \n",
    "    for bull_idx in range(num_bulls):\n",
    "        bull_row = bulls.iloc[bull_idx]\n",
    "        bull_ancestors = bull_row['valid_ancestors']\n",
    "        bull_ebv = bull_row['ebv']\n",
    "        \n",
    "        # Проверка родства\n",
    "        kinship = calculate_kinship(bull_ancestors, cow_ancestors)\n",
    "        weight = 1.0 if kinship == 0 else 0.01  # Штраф за родство\n",
    "        \n",
    "        # Добавление в целевую функцию\n",
    "        objective_terms.append(((bull_ebv + cow_ebv) / 2) * weight * x[cow_idx, bull_idx])\n",
    "\n",
    "model.Maximize(sum(objective_terms))\n",
    "\n",
    "# Решение\n",
    "solver = cp_model.CpSolver()\n",
    "solver.parameters.max_time_in_seconds = 60\n",
    "\n",
    "status = solver.Solve(model)\n",
    "\n",
    "# Вывод результатов\n",
    "if status in (cp_model.OPTIMAL, cp_model.FEASIBLE, 1, 2):\n",
    "    print(\"Оптимальное решение найдено.\")\n",
    "    print(f\" Значение целевой функции: {solver.ObjectiveValue()}\")\n",
    "\n",
    "    assignments = []\n",
    "    for cow_idx in range(num_cows):\n",
    "        for bull_idx in range(num_bulls):\n",
    "            if solver.Value(x[cow_idx, bull_idx]) == 1:\n",
    "                cow_id = cows.iloc[cow_idx]['id']\n",
    "                bull_id = bulls.iloc[bull_idx]['id']\n",
    "                assignments.append((cow_id, bull_id))\n",
    "    print(\"Назначения (корова -> бык):\", assignments[:5])  \n",
    "else:\n",
    "    print(\"Решение не найдено.\")\n",
    "    print('status:', status)"
   ]
  },
  {
   "cell_type": "code",
   "execution_count": null,
   "id": "eab6a027",
   "metadata": {},
   "outputs": [],
   "source": []
  },
  {
   "cell_type": "markdown",
   "id": "722507c6",
   "metadata": {},
   "source": []
  }
 ],
 "metadata": {
  "kernelspec": {
   "display_name": ".venv",
   "language": "python",
   "name": "python3"
  },
  "language_info": {
   "codemirror_mode": {
    "name": "ipython",
    "version": 3
   },
   "file_extension": ".py",
   "mimetype": "text/x-python",
   "name": "python",
   "nbconvert_exporter": "python",
   "pygments_lexer": "ipython3",
   "version": "3.12.3"
  }
 },
 "nbformat": 4,
 "nbformat_minor": 5
}
